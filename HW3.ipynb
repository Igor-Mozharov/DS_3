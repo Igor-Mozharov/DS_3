{
 "cells": [
  {
   "cell_type": "code",
   "execution_count": 70,
   "id": "ff588b14",
   "metadata": {},
   "outputs": [],
   "source": [
    "import pandas as pd"
   ]
  },
  {
   "cell_type": "code",
   "execution_count": 71,
   "id": "2665b978",
   "metadata": {},
   "outputs": [],
   "source": [
    "import numpy as np"
   ]
  },
  {
   "cell_type": "code",
   "execution_count": 72,
   "id": "1698325e",
   "metadata": {},
   "outputs": [],
   "source": [
    "from sklearn.linear_model import LinearRegression"
   ]
  },
  {
   "cell_type": "markdown",
   "id": "10b1f131",
   "metadata": {},
   "source": [
    "##### 1. Напишіть функцію гіпотези лінійної регресії у векторному вигляді;"
   ]
  },
  {
   "cell_type": "markdown",
   "id": "a912df9d",
   "metadata": {},
   "source": [
    "# $$\n",
    "h(\\vec x)= w_0 + \\vec w_1 x\n",
    "$$"
   ]
  },
  {
   "cell_type": "code",
   "execution_count": 73,
   "id": "95425f9e",
   "metadata": {},
   "outputs": [],
   "source": [
    "def h(w_0, w_1, x):\n",
    "    return w_0 + w_1 * x"
   ]
  },
  {
   "cell_type": "markdown",
   "id": "724c7fdc",
   "metadata": {},
   "source": [
    "##### 2. Cтворіть функцію для обчислення функції втрат у векторному вигляді"
   ]
  },
  {
   "cell_type": "markdown",
   "id": "ec5c0d2c",
   "metadata": {},
   "source": [
    "# $$\n",
    "J(W) = \\frac {1}{2m} \\sum (h(\\vec x) - \\vec y)^2\n",
    "$$"
   ]
  },
  {
   "cell_type": "code",
   "execution_count": 74,
   "id": "d4d53083",
   "metadata": {},
   "outputs": [],
   "source": [
    "def j(data, w_0, w_1, m):\n",
    "    cost = 0 \n",
    "\n",
    "    for x, y in zip(df.x, df.y):\n",
    "\n",
    "        cost = cost + (h(w_0, w_1, x) - y)**2\n",
    "\n",
    "    return cost/(2*m)"
   ]
  },
  {
   "cell_type": "markdown",
   "id": "20fb277e",
   "metadata": {},
   "source": [
    "##### 3. Реалізуйте один крок градієнтного спуску"
   ]
  },
  {
   "cell_type": "markdown",
   "id": "3f6e34b5",
   "metadata": {},
   "source": [
    "# $$\n",
    "w_0 = w^{prev}_0 - \\alpha \\frac {\\partial J(w_0, w_1)}{\\partial w_0}\n",
    "$$\n",
    "# $$\n",
    "w_1 = w^{prev}_1 - \\alpha \\frac {\\partial J(w_0, w_1)}{\\partial w_1}\n",
    "$$"
   ]
  },
  {
   "cell_type": "code",
   "execution_count": 75,
   "id": "22866027",
   "metadata": {},
   "outputs": [],
   "source": [
    "def w_0(w_0_prev, learn_rate, J, w_0):\n",
    "    return w_0_prev - learn_rate*(j / w_0)"
   ]
  },
  {
   "cell_type": "code",
   "execution_count": 76,
   "id": "0921e32f",
   "metadata": {},
   "outputs": [],
   "source": [
    "def w_1(w_1_prev, learn_rate, J, w_1):\n",
    "    return w_1_prev - learn_rate*(j / w_1)"
   ]
  },
  {
   "cell_type": "markdown",
   "id": "63ac6bc8",
   "metadata": {},
   "source": [
    "##### 4. Знайдіть найкращі параметри w⃗ для датасету прогнозуючу ціну на будинок залежно від площі, кількості ванних кімнат та кількості спалень"
   ]
  },
  {
   "cell_type": "code",
   "execution_count": 77,
   "id": "6daab4b3",
   "metadata": {},
   "outputs": [
    {
     "data": {
      "text/html": [
       "<div>\n",
       "<style scoped>\n",
       "    .dataframe tbody tr th:only-of-type {\n",
       "        vertical-align: middle;\n",
       "    }\n",
       "\n",
       "    .dataframe tbody tr th {\n",
       "        vertical-align: top;\n",
       "    }\n",
       "\n",
       "    .dataframe thead th {\n",
       "        text-align: right;\n",
       "    }\n",
       "</style>\n",
       "<table border=\"1\" class=\"dataframe\">\n",
       "  <thead>\n",
       "    <tr style=\"text-align: right;\">\n",
       "      <th></th>\n",
       "      <th>price</th>\n",
       "      <th>area</th>\n",
       "      <th>bedrooms</th>\n",
       "      <th>bathrooms</th>\n",
       "      <th>stories</th>\n",
       "      <th>mainroad</th>\n",
       "      <th>guestroom</th>\n",
       "      <th>basement</th>\n",
       "      <th>hotwaterheating</th>\n",
       "      <th>airconditioning</th>\n",
       "      <th>parking</th>\n",
       "      <th>prefarea</th>\n",
       "      <th>furnishingstatus</th>\n",
       "    </tr>\n",
       "  </thead>\n",
       "  <tbody>\n",
       "    <tr>\n",
       "      <th>0</th>\n",
       "      <td>13300000</td>\n",
       "      <td>7420</td>\n",
       "      <td>4</td>\n",
       "      <td>2</td>\n",
       "      <td>3</td>\n",
       "      <td>yes</td>\n",
       "      <td>no</td>\n",
       "      <td>no</td>\n",
       "      <td>no</td>\n",
       "      <td>yes</td>\n",
       "      <td>2</td>\n",
       "      <td>yes</td>\n",
       "      <td>furnished</td>\n",
       "    </tr>\n",
       "    <tr>\n",
       "      <th>1</th>\n",
       "      <td>12250000</td>\n",
       "      <td>8960</td>\n",
       "      <td>4</td>\n",
       "      <td>4</td>\n",
       "      <td>4</td>\n",
       "      <td>yes</td>\n",
       "      <td>no</td>\n",
       "      <td>no</td>\n",
       "      <td>no</td>\n",
       "      <td>yes</td>\n",
       "      <td>3</td>\n",
       "      <td>no</td>\n",
       "      <td>furnished</td>\n",
       "    </tr>\n",
       "    <tr>\n",
       "      <th>2</th>\n",
       "      <td>12250000</td>\n",
       "      <td>9960</td>\n",
       "      <td>3</td>\n",
       "      <td>2</td>\n",
       "      <td>2</td>\n",
       "      <td>yes</td>\n",
       "      <td>no</td>\n",
       "      <td>yes</td>\n",
       "      <td>no</td>\n",
       "      <td>no</td>\n",
       "      <td>2</td>\n",
       "      <td>yes</td>\n",
       "      <td>semi-furnished</td>\n",
       "    </tr>\n",
       "    <tr>\n",
       "      <th>3</th>\n",
       "      <td>12215000</td>\n",
       "      <td>7500</td>\n",
       "      <td>4</td>\n",
       "      <td>2</td>\n",
       "      <td>2</td>\n",
       "      <td>yes</td>\n",
       "      <td>no</td>\n",
       "      <td>yes</td>\n",
       "      <td>no</td>\n",
       "      <td>yes</td>\n",
       "      <td>3</td>\n",
       "      <td>yes</td>\n",
       "      <td>furnished</td>\n",
       "    </tr>\n",
       "    <tr>\n",
       "      <th>4</th>\n",
       "      <td>11410000</td>\n",
       "      <td>7420</td>\n",
       "      <td>4</td>\n",
       "      <td>1</td>\n",
       "      <td>2</td>\n",
       "      <td>yes</td>\n",
       "      <td>yes</td>\n",
       "      <td>yes</td>\n",
       "      <td>no</td>\n",
       "      <td>yes</td>\n",
       "      <td>2</td>\n",
       "      <td>no</td>\n",
       "      <td>furnished</td>\n",
       "    </tr>\n",
       "    <tr>\n",
       "      <th>...</th>\n",
       "      <td>...</td>\n",
       "      <td>...</td>\n",
       "      <td>...</td>\n",
       "      <td>...</td>\n",
       "      <td>...</td>\n",
       "      <td>...</td>\n",
       "      <td>...</td>\n",
       "      <td>...</td>\n",
       "      <td>...</td>\n",
       "      <td>...</td>\n",
       "      <td>...</td>\n",
       "      <td>...</td>\n",
       "      <td>...</td>\n",
       "    </tr>\n",
       "    <tr>\n",
       "      <th>540</th>\n",
       "      <td>1820000</td>\n",
       "      <td>3000</td>\n",
       "      <td>2</td>\n",
       "      <td>1</td>\n",
       "      <td>1</td>\n",
       "      <td>yes</td>\n",
       "      <td>no</td>\n",
       "      <td>yes</td>\n",
       "      <td>no</td>\n",
       "      <td>no</td>\n",
       "      <td>2</td>\n",
       "      <td>no</td>\n",
       "      <td>unfurnished</td>\n",
       "    </tr>\n",
       "    <tr>\n",
       "      <th>541</th>\n",
       "      <td>1767150</td>\n",
       "      <td>2400</td>\n",
       "      <td>3</td>\n",
       "      <td>1</td>\n",
       "      <td>1</td>\n",
       "      <td>no</td>\n",
       "      <td>no</td>\n",
       "      <td>no</td>\n",
       "      <td>no</td>\n",
       "      <td>no</td>\n",
       "      <td>0</td>\n",
       "      <td>no</td>\n",
       "      <td>semi-furnished</td>\n",
       "    </tr>\n",
       "    <tr>\n",
       "      <th>542</th>\n",
       "      <td>1750000</td>\n",
       "      <td>3620</td>\n",
       "      <td>2</td>\n",
       "      <td>1</td>\n",
       "      <td>1</td>\n",
       "      <td>yes</td>\n",
       "      <td>no</td>\n",
       "      <td>no</td>\n",
       "      <td>no</td>\n",
       "      <td>no</td>\n",
       "      <td>0</td>\n",
       "      <td>no</td>\n",
       "      <td>unfurnished</td>\n",
       "    </tr>\n",
       "    <tr>\n",
       "      <th>543</th>\n",
       "      <td>1750000</td>\n",
       "      <td>2910</td>\n",
       "      <td>3</td>\n",
       "      <td>1</td>\n",
       "      <td>1</td>\n",
       "      <td>no</td>\n",
       "      <td>no</td>\n",
       "      <td>no</td>\n",
       "      <td>no</td>\n",
       "      <td>no</td>\n",
       "      <td>0</td>\n",
       "      <td>no</td>\n",
       "      <td>furnished</td>\n",
       "    </tr>\n",
       "    <tr>\n",
       "      <th>544</th>\n",
       "      <td>1750000</td>\n",
       "      <td>3850</td>\n",
       "      <td>3</td>\n",
       "      <td>1</td>\n",
       "      <td>2</td>\n",
       "      <td>yes</td>\n",
       "      <td>no</td>\n",
       "      <td>no</td>\n",
       "      <td>no</td>\n",
       "      <td>no</td>\n",
       "      <td>0</td>\n",
       "      <td>no</td>\n",
       "      <td>unfurnished</td>\n",
       "    </tr>\n",
       "  </tbody>\n",
       "</table>\n",
       "<p>545 rows × 13 columns</p>\n",
       "</div>"
      ],
      "text/plain": [
       "        price  area  bedrooms  bathrooms  stories mainroad guestroom basement   \n",
       "0    13300000  7420         4          2        3      yes        no       no  \\\n",
       "1    12250000  8960         4          4        4      yes        no       no   \n",
       "2    12250000  9960         3          2        2      yes        no      yes   \n",
       "3    12215000  7500         4          2        2      yes        no      yes   \n",
       "4    11410000  7420         4          1        2      yes       yes      yes   \n",
       "..        ...   ...       ...        ...      ...      ...       ...      ...   \n",
       "540   1820000  3000         2          1        1      yes        no      yes   \n",
       "541   1767150  2400         3          1        1       no        no       no   \n",
       "542   1750000  3620         2          1        1      yes        no       no   \n",
       "543   1750000  2910         3          1        1       no        no       no   \n",
       "544   1750000  3850         3          1        2      yes        no       no   \n",
       "\n",
       "    hotwaterheating airconditioning  parking prefarea furnishingstatus  \n",
       "0                no             yes        2      yes        furnished  \n",
       "1                no             yes        3       no        furnished  \n",
       "2                no              no        2      yes   semi-furnished  \n",
       "3                no             yes        3      yes        furnished  \n",
       "4                no             yes        2       no        furnished  \n",
       "..              ...             ...      ...      ...              ...  \n",
       "540              no              no        2       no      unfurnished  \n",
       "541              no              no        0       no   semi-furnished  \n",
       "542              no              no        0       no      unfurnished  \n",
       "543              no              no        0       no        furnished  \n",
       "544              no              no        0       no      unfurnished  \n",
       "\n",
       "[545 rows x 13 columns]"
      ]
     },
     "execution_count": 77,
     "metadata": {},
     "output_type": "execute_result"
    }
   ],
   "source": [
    "url = 'https://drive.google.com/file/d/1-rAa4XT4_fI0dOBlMNuE6a7jB0wln_Qo/view'\n",
    "url='https://drive.google.com/uc?id=' + url.split('/')[-2]\n",
    "data = pd.read_csv(url)\n",
    "data"
   ]
  },
  {
   "cell_type": "code",
   "execution_count": 78,
   "id": "78381163",
   "metadata": {},
   "outputs": [
    {
     "data": {
      "text/plain": [
       "0.4870830667058762"
      ]
     },
     "execution_count": 78,
     "metadata": {},
     "output_type": "execute_result"
    }
   ],
   "source": [
    "science_data = data.iloc[:, 0:4]\n",
    "x = science_data[['area', 'bedrooms', 'bathrooms']]\n",
    "\n",
    "y = science_data['price']\n",
    "\n",
    "reg = LinearRegression().fit(x, y)\n",
    "reg.score(x, y)"
   ]
  },
  {
   "cell_type": "code",
   "execution_count": 79,
   "id": "efc2a457",
   "metadata": {},
   "outputs": [
    {
     "data": {
      "text/plain": [
       "-173171.6076326333"
      ]
     },
     "execution_count": 79,
     "metadata": {},
     "output_type": "execute_result"
    }
   ],
   "source": [
    "reg.intercept_"
   ]
  },
  {
   "cell_type": "code",
   "execution_count": 80,
   "id": "3f438103",
   "metadata": {},
   "outputs": [
    {
     "data": {
      "text/plain": [
       "array([3.78762754e+02, 4.06820034e+05, 1.38604950e+06])"
      ]
     },
     "execution_count": 80,
     "metadata": {},
     "output_type": "execute_result"
    }
   ],
   "source": [
    "reg.coef_"
   ]
  },
  {
   "cell_type": "markdown",
   "id": "3011858b",
   "metadata": {},
   "source": [
    "##### 5. Знайдіть ці ж параметри за допомогою аналітичного рішення"
   ]
  },
  {
   "cell_type": "markdown",
   "id": "d67a6bb9",
   "metadata": {},
   "source": [
    "\n",
    "# $$\n",
    "h(\\vec x) = \\vec w * \\vec x\n",
    "$$"
   ]
  },
  {
   "cell_type": "markdown",
   "id": "3915b169",
   "metadata": {},
   "source": [
    "# $$\n",
    "\\nabla J(\\vec w) = \\frac {1}{m} X^T (X \\vec w - \\vec y)\n",
    "$$"
   ]
  },
  {
   "cell_type": "markdown",
   "id": "a065be89",
   "metadata": {},
   "source": [
    "# $$\n",
    "\\vec w = \\vec w^{prev} - \\frac {\\alpha}{m}X^T(X \\vec w - \\vec y)\n",
    "$$"
   ]
  },
  {
   "cell_type": "markdown",
   "id": "ba6a9103",
   "metadata": {},
   "source": [
    "### АБО"
   ]
  },
  {
   "cell_type": "markdown",
   "id": "6174dfc6",
   "metadata": {},
   "source": [
    "# $$\n",
    "\\vec h (X) = X\\vec w\n",
    "$$\n",
    "\n",
    "# $$\n",
    "\\vec w = (X^T X)^{-1}X^T \\vec y\n",
    "$$"
   ]
  },
  {
   "cell_type": "code",
   "execution_count": 81,
   "id": "f51523f8",
   "metadata": {},
   "outputs": [],
   "source": [
    " def vec_v(X, vec_y):\n",
    "        return np.dot(np.dot(np.linalg.inv(np.dot(X.T, X)), X.T), vec_y )"
   ]
  },
  {
   "cell_type": "code",
   "execution_count": 82,
   "id": "b8b96c4f",
   "metadata": {},
   "outputs": [
    {
     "data": {
      "text/plain": [
       "array([3.72448352e+02, 3.68974672e+05, 1.37031315e+06])"
      ]
     },
     "execution_count": 82,
     "metadata": {},
     "output_type": "execute_result"
    }
   ],
   "source": [
    "vec_v(x, y)"
   ]
  },
  {
   "cell_type": "markdown",
   "id": "9a7ac902",
   "metadata": {},
   "source": [
    "##### 6. Порівняйте отримані результати."
   ]
  },
  {
   "cell_type": "markdown",
   "id": "57d4f333",
   "metadata": {},
   "source": [
    "Результати аналітичного методу:"
   ]
  },
  {
   "cell_type": "code",
   "execution_count": 83,
   "id": "df4a8dc5",
   "metadata": {},
   "outputs": [
    {
     "data": {
      "text/plain": [
       "array([3.72448352e+02, 3.68974672e+05, 1.37031315e+06])"
      ]
     },
     "execution_count": 83,
     "metadata": {},
     "output_type": "execute_result"
    }
   ],
   "source": [
    "vec_v(x, y)"
   ]
  },
  {
   "cell_type": "markdown",
   "id": "2ce92124",
   "metadata": {},
   "source": [
    "Результати SKLEARN:"
   ]
  },
  {
   "cell_type": "code",
   "execution_count": 84,
   "id": "ce363770",
   "metadata": {},
   "outputs": [
    {
     "data": {
      "text/plain": [
       "array([3.78762754e+02, 4.06820034e+05, 1.38604950e+06])"
      ]
     },
     "execution_count": 84,
     "metadata": {},
     "output_type": "execute_result"
    }
   ],
   "source": [
    "reg.coef_"
   ]
  },
  {
   "cell_type": "markdown",
   "id": "3a225405",
   "metadata": {},
   "source": [
    "Висновки:"
   ]
  },
  {
   "cell_type": "code",
   "execution_count": 85,
   "id": "06cafddc",
   "metadata": {},
   "outputs": [
    {
     "data": {
      "text/plain": [
       "array([ True,  True,  True])"
      ]
     },
     "execution_count": 85,
     "metadata": {},
     "output_type": "execute_result"
    }
   ],
   "source": [
    "vec_v(x, y) < reg.coef_"
   ]
  },
  {
   "cell_type": "code",
   "execution_count": 86,
   "id": "ec5420c1",
   "metadata": {},
   "outputs": [],
   "source": [
    "# Коефіціенти по аналітичному способу трохи гірші."
   ]
  }
 ],
 "metadata": {
  "kernelspec": {
   "display_name": "Python 3 (ipykernel)",
   "language": "python",
   "name": "python3"
  },
  "language_info": {
   "codemirror_mode": {
    "name": "ipython",
    "version": 3
   },
   "file_extension": ".py",
   "mimetype": "text/x-python",
   "name": "python",
   "nbconvert_exporter": "python",
   "pygments_lexer": "ipython3",
   "version": "3.11.0rc1"
  }
 },
 "nbformat": 4,
 "nbformat_minor": 5
}
